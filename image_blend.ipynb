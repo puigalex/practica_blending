{
 "cells": [
  {
   "cell_type": "code",
   "execution_count": 1,
   "metadata": {},
   "outputs": [],
   "source": [
    "import cv2\n",
    "import numpy as np\n",
    "from scipy import ndimage\n"
   ]
  },
  {
   "cell_type": "code",
   "execution_count": 2,
   "metadata": {},
   "outputs": [],
   "source": [
    "def pyrDown_custom(imagen, sigma):\n",
    "    filtro = crear_filtro_gaussiano(sigma)\n",
    "    imagen = cv2.filter2D(imagen, -1, filtro)\n",
    "    imagen = cv2.resize(imagen, (0,0), fx=0.5, fy=0.5)\n",
    "    return imagen\n",
    "\n",
    "\n",
    "\n",
    "def crear_filtro_gaussiano(sigma):\n",
    "    filter_size = 2 * int(4 * sigma + 0.5) + 1\n",
    "    gaussian_filter = np.zeros((filter_size, filter_size), np.float32)\n",
    "    m = filter_size//2\n",
    "    n = filter_size//2\n",
    "\n",
    "    for x in range(-m, m+1):\n",
    "        for y in range(-n, n+1):\n",
    "            x1 = 2*np.pi*(sigma**2)\n",
    "            x2 = np.exp(-(x**2 + y**2)/(2* sigma**2))\n",
    "            gaussian_filter[x+m, y+n] = (1/x1)*x2\n",
    "\n",
    "    return gaussian_filter\n",
    "\n",
    "# Convolucion con Fourier\n",
    "def convolucion_dft(imagen, sigma):\n",
    "    if sigma:\n",
    "      filtro = crear_filtro_gaussiano(sigma)\n",
    "\n",
    "    # Aplicar la DFT bidimensional a la imagen y al filtro\n",
    "    dft_imagen = np.fft.fft2(imagen)\n",
    "    dft_filtro = np.fft.fft2(filtro, s=imagen.shape)\n",
    "\n",
    "    # Multiplicar punto a punto la DFT de la imagen y la DFT del filtro\n",
    "    resultado_dft = dft_imagen * dft_filtro\n",
    "\n",
    "    # Aplicar la Transformada de Fourier Inversa (IDFT) para obtener la imagen convolucionada\n",
    "    imagen_convolucionada = np.fft.ifft2(resultado_dft).real\n",
    "\n",
    "    # Escalar la imagen resultante para valores entre 0 y 255\n",
    "    imagen_convolucionada = np.uint8(imagen_convolucionada)\n",
    "    imagen_convolucionada = cv2.resize(imagen_convolucionada, (0,0), fx=0.5, fy=0.5)\n",
    "\n",
    "    return imagen_convolucionada\n",
    "\n",
    "def calcularGauss(imagen, niveles, sigma, fourier = False)->list:\n",
    "    copia = imagen.copy()\n",
    "    piramide_gaussiana = [copia]\n",
    "    for i in range(niveles):\n",
    "        # Funcion de gauss\n",
    "        # copia = cv2.pyrDown(copia) #funcion de max gaus -> reshape\n",
    "        if fourier:\n",
    "            copia = convolucion_dft(copia, sigma)\n",
    "        else:\n",
    "            copia = pyrDown_custom(copia, sigma)\n",
    "        piramide_gaussiana.append(copia)\n",
    "    return piramide_gaussiana\n",
    "\n",
    "def calcularLaplaciana(piramide_gaussiana):\n",
    "    piramide_laplaciana = []\n",
    "    for i in range(len(piramide_gaussiana)-1,0, -1):\n",
    "        g_i = cv2.pyrUp(piramide_gaussiana[i]) #gi es la imagen incrementada en tamaño y la que deberia ser modificada si no hace match en tamaño\n",
    "        print(\"i: \", i, \"GI: \", g_i.shape, \"GI-1\", piramide_gaussiana[i-1].shape)\n",
    "        g_i = ajustar_tamano(piramide_gaussiana[i-1], g_i)\n",
    "        print(\"i: \", i, \"GI: \", g_i.shape, \"GI-1\", piramide_gaussiana[i-1].shape)\n",
    "        l_i = cv2.subtract(piramide_gaussiana[i-1], g_i)\n",
    "        piramide_laplaciana.append(l_i)\n",
    "    return piramide_laplaciana\n",
    "\n",
    "def ajustar_tamano(img_norm, img_x2):\n",
    "    canales = img_norm.shape[2]\n",
    "    if img_x2.shape[0] < img_norm.shape[0]:\n",
    "        empty_column = np.zeros((1, img_x2.shape[1], canales), dtype=np.uint8)\n",
    "        img_x2 = np.vstack((img_norm, empty_column))\n",
    "    elif img_x2.shape[0] > img_norm.shape[0]:\n",
    "        # remove last row\n",
    "        img_x2 = img_x2[:-1, :, :]\n",
    "    \n",
    "    if img_x2.shape[1] < img_norm.shape[1]:\n",
    "        print(\"Entro Ajusto fila\")\n",
    "        empty_column = np.zeros((img_x2.shape[0], 1, canales), dtype=np.uint8)\n",
    "        img_x2 = np.hstack((img_x2, empty_column))\n",
    "        print(img_x2.shape)\n",
    "    elif img_x2.shape[1] > img_norm.shape[1]:\n",
    "        print(\"Entro Ajusto columna\")\n",
    "        img_x2 = img_x2[:, :-1, :]\n",
    "    return img_x2\n",
    "\n",
    "def reconstruir(laplacianas, gaussianas):\n",
    "    img_r = gaussianas[-1]\n",
    "    # img_r = cv2.pyrUp(gaussiana_i)\n",
    "    for i in range(len(gaussianas)):\n",
    "        print(i)\n",
    "        try:\n",
    "            laplaciana_i = laplacianas[-i-1]\n",
    "        except:\n",
    "            print(\"Error\", i)\n",
    "            break\n",
    "        img_r = cv2.pyrUp(img_r)\n",
    "        print(\"laplaciana_i\", laplaciana_i.shape, \"img_r\", img_r.shape)\n",
    "        img_r = ajustar_tamano(laplaciana_i, img_r)\n",
    "        img_r = cv2.add(img_r, laplaciana_i)\n",
    "        cv2.imwrite(\"img_r\" + str(i) + \".jpg\", img_r)\n",
    "\n",
    "\n",
    "        \n",
    "\n",
    "def guardar_imgs(laplacianas, gaussianas):\n",
    "    for i in range(len(laplacianas)):\n",
    "        cv2.imwrite(\"laplaciana\" + str(i) + \".jpg\", laplacianas[i])\n",
    "    for i in range(len(gaussianas)):\n",
    "        cv2.imwrite(\"gaussiana\" + str(i) + \".jpg\", gaussianas[i])"
   ]
  },
  {
   "cell_type": "code",
   "execution_count": 3,
   "metadata": {},
   "outputs": [
    {
     "name": "stdout",
     "output_type": "stream",
     "text": [
      "Shape A:  (338, 282, 3) Shape B:  (338, 282, 3)\n",
      "Shape A:  (338, 282, 3) Shape B:  (338, 282, 3)\n",
      "i:  5 GI:  (20, 18, 3) GI-1 (21, 18, 3)\n",
      "i:  5 GI:  (22, 18, 3) GI-1 (21, 18, 3)\n"
     ]
    },
    {
     "ename": "error",
     "evalue": "OpenCV(4.8.0) /Users/xperience/GHA-OpenCV-Python/_work/opencv-python/opencv-python/opencv/modules/core/src/arithm.cpp:650: error: (-209:Sizes of input arguments do not match) The operation is neither 'array op array' (where arrays have the same size and the same number of channels), nor 'array op scalar', nor 'scalar op array' in function 'arithm_op'\n",
     "output_type": "error",
     "traceback": [
      "\u001b[0;31m---------------------------------------------------------------------------\u001b[0m",
      "\u001b[0;31merror\u001b[0m                                     Traceback (most recent call last)",
      "\u001b[1;32m/Users/alex/Documents/GitHub/practica_blending/image_blend.ipynb Cell 3\u001b[0m line \u001b[0;36m2\n\u001b[1;32m     <a href='vscode-notebook-cell:/Users/alex/Documents/GitHub/practica_blending/image_blend.ipynb#W2sZmlsZQ%3D%3D?line=16'>17</a>\u001b[0m gb \u001b[39m=\u001b[39m calcularGauss(B, \u001b[39m5\u001b[39m, sigma, fourier \u001b[39m=\u001b[39m \u001b[39mFalse\u001b[39;00m)\n\u001b[1;32m     <a href='vscode-notebook-cell:/Users/alex/Documents/GitHub/practica_blending/image_blend.ipynb#W2sZmlsZQ%3D%3D?line=17'>18</a>\u001b[0m \u001b[39m# ga = calcularGauss(A, 5, sigma, fourier = True)\u001b[39;00m\n\u001b[1;32m     <a href='vscode-notebook-cell:/Users/alex/Documents/GitHub/practica_blending/image_blend.ipynb#W2sZmlsZQ%3D%3D?line=18'>19</a>\u001b[0m \u001b[39m# gb = calcularGauss(B, 5, sigma, fourier = True)\u001b[39;00m\n\u001b[0;32m---> <a href='vscode-notebook-cell:/Users/alex/Documents/GitHub/practica_blending/image_blend.ipynb#W2sZmlsZQ%3D%3D?line=20'>21</a>\u001b[0m la \u001b[39m=\u001b[39m calcularLaplaciana(ga)\n\u001b[1;32m     <a href='vscode-notebook-cell:/Users/alex/Documents/GitHub/practica_blending/image_blend.ipynb#W2sZmlsZQ%3D%3D?line=21'>22</a>\u001b[0m lb \u001b[39m=\u001b[39m calcularLaplaciana(gb)\n",
      "\u001b[1;32m/Users/alex/Documents/GitHub/practica_blending/image_blend.ipynb Cell 3\u001b[0m line \u001b[0;36m6\n\u001b[1;32m     <a href='vscode-notebook-cell:/Users/alex/Documents/GitHub/practica_blending/image_blend.ipynb#W2sZmlsZQ%3D%3D?line=61'>62</a>\u001b[0m     g_i \u001b[39m=\u001b[39m ajustar_tamano(piramide_gaussiana[i\u001b[39m-\u001b[39m\u001b[39m1\u001b[39m], g_i)\n\u001b[1;32m     <a href='vscode-notebook-cell:/Users/alex/Documents/GitHub/practica_blending/image_blend.ipynb#W2sZmlsZQ%3D%3D?line=62'>63</a>\u001b[0m     \u001b[39mprint\u001b[39m(\u001b[39m\"\u001b[39m\u001b[39mi: \u001b[39m\u001b[39m\"\u001b[39m, i, \u001b[39m\"\u001b[39m\u001b[39mGI: \u001b[39m\u001b[39m\"\u001b[39m, g_i\u001b[39m.\u001b[39mshape, \u001b[39m\"\u001b[39m\u001b[39mGI-1\u001b[39m\u001b[39m\"\u001b[39m, piramide_gaussiana[i\u001b[39m-\u001b[39m\u001b[39m1\u001b[39m]\u001b[39m.\u001b[39mshape)\n\u001b[0;32m---> <a href='vscode-notebook-cell:/Users/alex/Documents/GitHub/practica_blending/image_blend.ipynb#W2sZmlsZQ%3D%3D?line=63'>64</a>\u001b[0m     l_i \u001b[39m=\u001b[39m cv2\u001b[39m.\u001b[39;49msubtract(piramide_gaussiana[i\u001b[39m-\u001b[39;49m\u001b[39m1\u001b[39;49m], g_i)\n\u001b[1;32m     <a href='vscode-notebook-cell:/Users/alex/Documents/GitHub/practica_blending/image_blend.ipynb#W2sZmlsZQ%3D%3D?line=64'>65</a>\u001b[0m     piramide_laplaciana\u001b[39m.\u001b[39mappend(l_i)\n\u001b[1;32m     <a href='vscode-notebook-cell:/Users/alex/Documents/GitHub/practica_blending/image_blend.ipynb#W2sZmlsZQ%3D%3D?line=65'>66</a>\u001b[0m \u001b[39mreturn\u001b[39;00m piramide_laplaciana\n",
      "\u001b[0;31merror\u001b[0m: OpenCV(4.8.0) /Users/xperience/GHA-OpenCV-Python/_work/opencv-python/opencv-python/opencv/modules/core/src/arithm.cpp:650: error: (-209:Sizes of input arguments do not match) The operation is neither 'array op array' (where arrays have the same size and the same number of channels), nor 'array op scalar', nor 'scalar op array' in function 'arithm_op'\n"
     ]
    }
   ],
   "source": [
    "A = cv2.imread('girl.jpeg')\n",
    "B = cv2.imread('woman.jpeg')\n",
    "\n",
    "print(\"Shape A: \", A.shape, \"Shape B: \", B.shape)\n",
    "if A.shape[0]%2 ==1:\n",
    "    A = A[:-1, :]\n",
    "if A.shape[1]%2 ==1:\n",
    "    A = A[:, :-1]\n",
    "if B.shape[0]%2 ==1:\n",
    "    B = B[:-1, :]\n",
    "if B.shape[1]%2 ==1:\n",
    "    B = B[:, :-1]\n",
    "print(\"Shape A: \", A.shape, \"Shape B: \", B.shape)\n",
    "\n",
    "sigma = 0.5\n",
    "ga = calcularGauss(A, 5, sigma, fourier = False)\n",
    "gb = calcularGauss(B, 5, sigma, fourier = False)\n",
    "# ga = calcularGauss(A, 5, sigma, fourier = True)\n",
    "# gb = calcularGauss(B, 5, sigma, fourier = True)\n",
    "\n",
    "la = calcularLaplaciana(ga)\n",
    "lb = calcularLaplaciana(gb)"
   ]
  },
  {
   "cell_type": "code",
   "execution_count": 4,
   "metadata": {},
   "outputs": [
    {
     "name": "stdout",
     "output_type": "stream",
     "text": [
      "(338, 282, 3)\n",
      "(169, 141, 3)\n",
      "(84, 70, 3)\n",
      "(42, 35, 3)\n",
      "(21, 18, 3)\n",
      "(10, 9, 3)\n",
      "Laplace\n"
     ]
    },
    {
     "ename": "NameError",
     "evalue": "name 'la' is not defined",
     "output_type": "error",
     "traceback": [
      "\u001b[0;31m---------------------------------------------------------------------------\u001b[0m",
      "\u001b[0;31mNameError\u001b[0m                                 Traceback (most recent call last)",
      "\u001b[1;32m/Users/alex/Documents/GitHub/practica_blending/image_blend.ipynb Cell 4\u001b[0m line \u001b[0;36m4\n\u001b[1;32m      <a href='vscode-notebook-cell:/Users/alex/Documents/GitHub/practica_blending/image_blend.ipynb#W3sZmlsZQ%3D%3D?line=1'>2</a>\u001b[0m     \u001b[39mprint\u001b[39m(i\u001b[39m.\u001b[39mshape)\n\u001b[1;32m      <a href='vscode-notebook-cell:/Users/alex/Documents/GitHub/practica_blending/image_blend.ipynb#W3sZmlsZQ%3D%3D?line=2'>3</a>\u001b[0m \u001b[39mprint\u001b[39m(\u001b[39m\"\u001b[39m\u001b[39mLaplace\u001b[39m\u001b[39m\"\u001b[39m)\n\u001b[0;32m----> <a href='vscode-notebook-cell:/Users/alex/Documents/GitHub/practica_blending/image_blend.ipynb#W3sZmlsZQ%3D%3D?line=3'>4</a>\u001b[0m \u001b[39mfor\u001b[39;00m i \u001b[39min\u001b[39;00m la:\n\u001b[1;32m      <a href='vscode-notebook-cell:/Users/alex/Documents/GitHub/practica_blending/image_blend.ipynb#W3sZmlsZQ%3D%3D?line=4'>5</a>\u001b[0m     \u001b[39mprint\u001b[39m(i\u001b[39m.\u001b[39mshape)\n",
      "\u001b[0;31mNameError\u001b[0m: name 'la' is not defined"
     ]
    }
   ],
   "source": [
    "for i in ga:\n",
    "    print(i.shape)\n",
    "print(\"Laplace\")\n",
    "for i in la:\n",
    "    print(i.shape)"
   ]
  },
  {
   "cell_type": "code",
   "execution_count": null,
   "metadata": {},
   "outputs": [],
   "source": [
    "print(\"Gaussiana A: \", len(ga), \"Gaussiana B: \", len(gb))\n",
    "print(\"Laplaciana A: \", len(la), \"Laplaciana B: \", len(lb))\n",
    "print(\"Gaussiana A size: \", ga[-1].shape, \"Gaussiana B size: \", gb[-1].shape)\n",
    "print(\"Laplaciana A size: \", la[-1].shape, \"Laplaciana B size: \", lb[-1].shape)\n",
    "\n"
   ]
  },
  {
   "cell_type": "code",
   "execution_count": null,
   "metadata": {},
   "outputs": [],
   "source": [
    "reconstruir(la[::-1], gb)"
   ]
  },
  {
   "cell_type": "code",
   "execution_count": null,
   "metadata": {},
   "outputs": [],
   "source": [
    "len(la)"
   ]
  },
  {
   "cell_type": "code",
   "execution_count": null,
   "metadata": {},
   "outputs": [],
   "source": [
    "len(ga)"
   ]
  },
  {
   "cell_type": "code",
   "execution_count": null,
   "metadata": {},
   "outputs": [],
   "source": []
  }
 ],
 "metadata": {
  "kernelspec": {
   "display_name": "m_vision",
   "language": "python",
   "name": "python3"
  },
  "language_info": {
   "codemirror_mode": {
    "name": "ipython",
    "version": 3
   },
   "file_extension": ".py",
   "mimetype": "text/x-python",
   "name": "python",
   "nbconvert_exporter": "python",
   "pygments_lexer": "ipython3",
   "version": "3.10.12"
  }
 },
 "nbformat": 4,
 "nbformat_minor": 2
}
