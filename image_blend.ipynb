{
 "cells": [
  {
   "cell_type": "code",
   "execution_count": 2,
   "metadata": {},
   "outputs": [],
   "source": [
    "import cv2\n",
    "import numpy as np"
   ]
  },
  {
   "cell_type": "code",
   "execution_count": 3,
   "metadata": {},
   "outputs": [],
   "source": [
    "def pyrDown_custom(imagen, sigma):\n",
    "    filtro = crearFiltroGaussiano(sigma)\n",
    "    imagen = cv2.filter2D(imagen, -1, filtro)\n",
    "    imagen = cv2.resize(imagen, (0,0), fx=0.5, fy=0.5)\n",
    "    return imagen\n",
    "\n",
    "def crearFiltroGaussiano(sigma):\n",
    "    filter_size = 5\n",
    "    gaussian_filter = np.zeros((filter_size, filter_size), np.float32)\n",
    "    m = filter_size//2\n",
    "    n = filter_size//2\n",
    "\n",
    "    for x in range(-m, m+1):\n",
    "        for y in range(-n, n+1):\n",
    "            x1 = 2*np.pi*(sigma**2)\n",
    "            x2 = np.exp(-(x**2 + y**2)/(2* sigma**2))\n",
    "            gaussian_filter[x+m, y+n] = (1/x1)*x2\n",
    "    return gaussian_filter\n",
    "\n",
    "def calcularGauss(imagen, niveles, sigma, fourier = False)->list:\n",
    "    copia = imagen.copy()\n",
    "    piramide_gaussiana = [copia]\n",
    "    for i in range(niveles):\n",
    "        copia = pyrDown_custom(copia, sigma)\n",
    "        piramide_gaussiana.append(copia)\n",
    "    return piramide_gaussiana\n",
    "\n",
    "def calcularLaplaciana(piramide_gaussiana):\n",
    "    piramide_laplaciana = []\n",
    "    for i in range(len(piramide_gaussiana)-1,0, -1):\n",
    "        g_i = cv2.pyrUp(piramide_gaussiana[i]) #gi es la imagen incrementada en tamaño y la que deberia ser modificada si no hace match en tamaño\n",
    "        g_i = ajustar_tamano(piramide_gaussiana[i-1], g_i)\n",
    "        l_i = cv2.subtract(piramide_gaussiana[i-1], g_i)\n",
    "        l_i[l_i < 0] = 0\n",
    "        piramide_laplaciana.append(l_i)\n",
    "    return piramide_laplaciana\n",
    "\n",
    "def ajustar_tamano(img_norm, img_x2):\n",
    "    canales = img_norm.shape[2]\n",
    "    if img_x2.shape[0] < img_norm.shape[0]:\n",
    "        empty_column = np.zeros((1, img_x2.shape[1], canales), dtype=np.uint8)\n",
    "        img_x2 = np.vstack((img_x2, empty_column))\n",
    "    elif img_x2.shape[0] > img_norm.shape[0]:\n",
    "        img_x2 = img_x2[:-1, :, :]\n",
    "    \n",
    "    if img_x2.shape[1] < img_norm.shape[1]:\n",
    "        empty_column = np.zeros((img_x2.shape[0], 1, canales), dtype=np.uint8)\n",
    "        img_x2 = np.hstack((img_x2, empty_column))\n",
    "    elif img_x2.shape[1] > img_norm.shape[1]:\n",
    "        img_x2 = img_x2[:, :-1, :]\n",
    "    return img_x2\n",
    "\n",
    "def reconstruir(laplacianas, gaussianas, alpha, beta):\n",
    "    img_r = gaussianas[-1]\n",
    "    for i in range(len(gaussianas)):\n",
    "        #print(i)\n",
    "        try:\n",
    "            laplaciana_i = laplacianas[-i-1]\n",
    "        except:\n",
    "            break\n",
    "        img_r = cv2.pyrUp(img_r)\n",
    "        img_r = ajustar_tamano(laplaciana_i, img_r)\n",
    "        img_r = cv2.add(alpha*img_r, beta*laplaciana_i)\n",
    "        cv2.imwrite(\"./reconstruida/img_reconstruida\" + str(i) + \".jpg\", img_r)\n",
    "\n",
    "def guardar_imgs(laplacianas, gaussianas, nombre):\n",
    "    for i in range(len(laplacianas)):\n",
    "        cv2.imwrite(\"./piramides_\"+ str(nombre)+\"/laplaciana\" + str(i) + \".jpg\", laplacianas[i])\n",
    "    for i in range(len(gaussianas)):\n",
    "        cv2.imwrite(\"./piramides_\"+ str(nombre) +\"/gaussiana\" + str(i) + \".jpg\", gaussianas[i])"
   ]
  },
  {
   "cell_type": "code",
   "execution_count": 4,
   "metadata": {},
   "outputs": [],
   "source": [
    "name_a = \"taza4\"\n",
    "name_b = \"taza3\"\n",
    "A = cv2.imread('{}.jpeg'.format(name_a))\n",
    "B = cv2.imread('{}.jpeg'.format(name_b))\n",
    "\n",
    "\n",
    "sigma = 0.6\n",
    "ga = calcularGauss(A, 5, sigma, fourier = False)\n",
    "gb = calcularGauss(B, 5, sigma, fourier = False)\n",
    "\n",
    "la = calcularLaplaciana(ga)\n",
    "lb = calcularLaplaciana(gb)"
   ]
  },
  {
   "cell_type": "code",
   "execution_count": 5,
   "metadata": {},
   "outputs": [],
   "source": [
    "alpha = 0.85\n",
    "beta = 1 - alpha\n",
    "reconstruir(la[::-1], gb, alpha, beta)"
   ]
  },
  {
   "cell_type": "code",
   "execution_count": 6,
   "metadata": {},
   "outputs": [],
   "source": [
    "guardar_imgs(la, ga, name_a)\n",
    "guardar_imgs(lb, gb, name_b)"
   ]
  },
  {
   "cell_type": "markdown",
   "metadata": {},
   "source": [
    "# Fourirer"
   ]
  },
  {
   "cell_type": "code",
   "execution_count": null,
   "metadata": {},
   "outputs": [],
   "source": [
    "from numpy.fft import fft2, ifft2, fftshift"
   ]
  },
  {
   "cell_type": "code",
   "execution_count": null,
   "metadata": {},
   "outputs": [],
   "source": [
    "def imagen_hibrida_fourier(image1, image2, cutoff_frequency, alpha):\n",
    "    # Calcula la Transformada de Fourier de ambas imágenes\n",
    "    fft_image1 = fft2(image1) \n",
    "    fft_image2 = fft2(image2)\n",
    "\n",
    "    # Aplica un filtro en el dominio de Fourier a ambas imágenes\n",
    "    height, width = image1.shape[:2] # Nos quedamos solo con las dimensiones de la imagen y NO con los canales\n",
    "    \n",
    "    h, w = height // 2, width // 2 # Coordenada del centro de la imagen\n",
    "\n",
    "    # Eliminamos las frecuancias altas de la imagen 1. Utilizamos el hecho de que las frecuencias bajas\n",
    "    # se encuentran cerca del centro de la imagen (en el dominio de las frecuencias)\n",
    "    fft_image1[h-cutoff_frequency:h+cutoff_frequency, w-cutoff_frequency:w+cutoff_frequency] = 0\n",
    "\n",
    "    # Eliminamos las frecuencias bajas de la imagen 2. Utilizamos el hecho de que las frecuencias bajas\n",
    "    # se encuentran cerca del centro de la imagen (en el dominio de las frecuencias)\n",
    "    fft_image2[:h-cutoff_frequency, :w-cutoff_frequency] = 0\n",
    "    fft_image2[:h-cutoff_frequency, w+cutoff_frequency:] = 0\n",
    "    fft_image2[h+cutoff_frequency:, :w-cutoff_frequency] = 0\n",
    "    fft_image2[h+cutoff_frequency:, w+cutoff_frequency:] = 0\n",
    "\n",
    "    # Calcula la Transformada Inversa de Fourier de ambas imágenes filtradas\n",
    "    filtered_image1 = np.abs(ifft2(fft_image1)) # np.abs para eliminar la parte imaginaria que es casi 0.\n",
    "    filtered_image2 = np.abs(ifft2(fft_image2))\n",
    "\n",
    "    # Combina las dos imágenes filtradas\n",
    "    hybrid_image = alpha * filtered_image1 + (1 - alpha) * filtered_image2\n",
    "\n",
    "\n",
    "    return hybrid_image\n"
   ]
  },
  {
   "cell_type": "code",
   "execution_count": null,
   "metadata": {},
   "outputs": [],
   "source": [
    "apple1 = cv2.imread('/content/apple1.jpg')\n",
    "orange1 = cv2.imread('/content/orange1.jpg')\n",
    "\n",
    "alpha = 0.750\n",
    "cutoff_frequency = 600\n",
    "\n",
    "orange_apple=imagen_hibrida_fourier(apple1, orange1, cutoff_frequency, alpha)\n",
    "cv2.imwrite('/content/orange_apple_Fourier.jpg',orange_apple)"
   ]
  },
  {
   "cell_type": "code",
   "execution_count": null,
   "metadata": {},
   "outputs": [],
   "source": [
    "girl = cv2.imread('girl.jpg')\n",
    "woman = cv2.imread('woman.jpg')\n",
    "\n",
    "alpha = 0.5\n",
    "cutoff_frequency=158\n",
    "\n",
    "girl_woman=imagen_hibrida_fourier(woman, girl, cutoff_frequency, alpha)\n",
    "cv2.imwrite('girl_woman_Fourier.jpg',girl_woman)"
   ]
  },
  {
   "cell_type": "code",
   "execution_count": null,
   "metadata": {},
   "outputs": [],
   "source": [
    "obama = cv2.imread('obama.jpg')\n",
    "michelle = cv2.imread('michelle.jpg')\n",
    "\n",
    "alpha = 0.35\n",
    "cutoff_frequency=286\n",
    "\n",
    "obama_michelle=imagen_hibrida_fourier(michelle, obama, cutoff_frequency, alpha)\n",
    "cv2.imwrite('/content/obama_michelle_Fourier.jpg',obama_michelle)"
   ]
  },
  {
   "cell_type": "code",
   "execution_count": null,
   "metadata": {},
   "outputs": [],
   "source": [
    "taza = cv2.imread('/content/taza.jpeg')\n",
    "va = cv2.imread('/content/va.jpeg')\n",
    "\n",
    "alpha = 0.48\n",
    "cutoff_frequency=110\n",
    "\n",
    "taza_va=imagen_hibrida_fourier(va, taza, cutoff_frequency, alpha)\n",
    "cv2.imwrite('/content/taza_va.jpg',taza_va)"
   ]
  }
 ],
 "metadata": {
  "kernelspec": {
   "display_name": "m_vision",
   "language": "python",
   "name": "python3"
  },
  "language_info": {
   "codemirror_mode": {
    "name": "ipython",
    "version": 3
   },
   "file_extension": ".py",
   "mimetype": "text/x-python",
   "name": "python",
   "nbconvert_exporter": "python",
   "pygments_lexer": "ipython3",
   "version": "3.10.12"
  }
 },
 "nbformat": 4,
 "nbformat_minor": 2
}
