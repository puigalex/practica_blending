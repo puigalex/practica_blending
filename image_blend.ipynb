{
 "cells": [
  {
   "cell_type": "code",
   "execution_count": 1,
   "metadata": {},
   "outputs": [],
   "source": [
    "import cv2\n",
    "import numpy as np"
   ]
  },
  {
   "cell_type": "code",
   "execution_count": 2,
   "metadata": {},
   "outputs": [],
   "source": [
    "def calcularGauss(imagen, niveles)->list:\n",
    "    copia = imagen.copy()\n",
    "    piramide_gaussiana = [copia]\n",
    "    for i in range(niveles):\n",
    "        # Funcion de gauss\n",
    "        copia = cv2.pyrDown(copia) #funcion de max gaus -> reshape\n",
    "        piramide_gaussiana.append(copia)\n",
    "    return piramide_gaussiana\n",
    "\n",
    "def calcularLaplaciana(piramide_gaussiana):\n",
    "    piramide_laplaciana = []\n",
    "    for i in range(len(piramide_gaussiana)-1,0, -1):\n",
    "        g_i = cv2.pyrUp(piramide_gaussiana[i]) #gi es la imagen incrementada en tamaño y la que deberia ser modificada si no hace match en tamaño\n",
    "        print(\"i: \", i, \"GI: \", g_i.shape, \"GI-1\", piramide_gaussiana[i-1].shape)\n",
    "        g_i = ajustar_tamano(piramide_gaussiana[i-1], g_i)\n",
    "        print(\"i: \", i, \"GI: \", g_i.shape, \"GI-1\", piramide_gaussiana[i-1].shape)\n",
    "        l_i = cv2.subtract(piramide_gaussiana[i-1], g_i)\n",
    "        piramide_laplaciana.append(l_i)\n",
    "    return piramide_laplaciana\n",
    "\n",
    "def ajustar_tamano(img_norm, img_x2):\n",
    "    canales = img_norm.shape[2]\n",
    "    if img_x2.shape[0] < img_norm.shape[0]:\n",
    "        empty_column = np.zeros((1, img_x2.shape[1], canales), dtype=np.uint8)\n",
    "        img_x2 = np.vstack((img_norm, empty_column))\n",
    "    elif img_x2.shape[0] > img_norm.shape[0]:\n",
    "        # remove last row\n",
    "        img_x2 = img_x2[:-1, :, :]\n",
    "    \n",
    "    if img_x2.shape[1] < img_norm.shape[1]:\n",
    "        print(\"Entro Ajusto fila\")\n",
    "        empty_column = np.zeros((img_x2.shape[0], 1, canales), dtype=np.uint8)\n",
    "        img_x2 = np.hstack((img_x2, empty_column))\n",
    "        print(img_x2.shape)\n",
    "    elif img_x2.shape[1] > img_norm.shape[1]:\n",
    "        print(\"Entro Ajusto columna\")\n",
    "        img_x2 = img_x2[:, :-1, :]\n",
    "    return img_x2\n",
    "\n",
    "def reconstruir(laplacianas, gaussianas):\n",
    "    img_r = gaussianas[-1]\n",
    "    # img_r = cv2.pyrUp(gaussiana_i)\n",
    "    for i in range(len(gaussianas)):\n",
    "        print(i)\n",
    "        try:\n",
    "            laplaciana_i = laplacianas[-i-1]\n",
    "        except:\n",
    "            print(\"Error\", i)\n",
    "            break\n",
    "        img_r = cv2.pyrUp(img_r)\n",
    "        print(\"laplaciana_i\", laplaciana_i.shape, \"img_r\", img_r.shape)\n",
    "        img_r = ajustar_tamano(laplaciana_i, img_r)\n",
    "        img_r = cv2.add(img_r, laplaciana_i)\n",
    "        cv2.imwrite(\"img_r\" + str(i) + \".jpg\", img_r)\n",
    "\n",
    "\n",
    "        \n",
    "\n",
    "def guardar_imgs(laplacianas, gaussianas):\n",
    "    for i in range(len(laplacianas)):\n",
    "        cv2.imwrite(\"laplaciana\" + str(i) + \".jpg\", laplacianas[i])\n",
    "    for i in range(len(gaussianas)):\n",
    "        cv2.imwrite(\"gaussiana\" + str(i) + \".jpg\", gaussianas[i])"
   ]
  },
  {
   "cell_type": "code",
   "execution_count": 3,
   "metadata": {},
   "outputs": [
    {
     "name": "stdout",
     "output_type": "stream",
     "text": [
      "Shape A:  (338, 282, 3) Shape B:  (338, 282, 3)\n",
      "Shape A:  (338, 282, 3) Shape B:  (338, 282, 3)\n",
      "i:  3 GI:  (86, 72, 3) GI-1 (85, 71, 3)\n",
      "Entro Ajusto columna\n",
      "i:  3 GI:  (85, 71, 3) GI-1 (85, 71, 3)\n",
      "i:  2 GI:  (170, 142, 3) GI-1 (169, 141, 3)\n",
      "Entro Ajusto columna\n",
      "i:  2 GI:  (169, 141, 3) GI-1 (169, 141, 3)\n",
      "i:  1 GI:  (338, 282, 3) GI-1 (338, 282, 3)\n",
      "i:  1 GI:  (338, 282, 3) GI-1 (338, 282, 3)\n",
      "i:  3 GI:  (86, 72, 3) GI-1 (85, 71, 3)\n",
      "Entro Ajusto columna\n",
      "i:  3 GI:  (85, 71, 3) GI-1 (85, 71, 3)\n",
      "i:  2 GI:  (170, 142, 3) GI-1 (169, 141, 3)\n",
      "Entro Ajusto columna\n",
      "i:  2 GI:  (169, 141, 3) GI-1 (169, 141, 3)\n",
      "i:  1 GI:  (338, 282, 3) GI-1 (338, 282, 3)\n",
      "i:  1 GI:  (338, 282, 3) GI-1 (338, 282, 3)\n"
     ]
    }
   ],
   "source": [
    "A = cv2.imread('woman.jpeg')\n",
    "B = cv2.imread('girl.jpeg')\n",
    "# convert to black and white\n",
    "# A = cv2.cvtColor(A, cv2.COLOR_BGR2GRAY)\n",
    "# B = cv2.cvtColor(B, cv2.COLOR_BGR2GRAY)\n",
    "print(\"Shape A: \", A.shape, \"Shape B: \", B.shape)\n",
    "if A.shape[0]%2 ==1:\n",
    "    A = A[:-1, :]\n",
    "if A.shape[1]%2 ==1:\n",
    "    A = A[:, :-1]\n",
    "if B.shape[0]%2 ==1:\n",
    "    B = B[:-1, :]\n",
    "if B.shape[1]%2 ==1:\n",
    "    B = B[:, :-1]\n",
    "print(\"Shape A: \", A.shape, \"Shape B: \", B.shape)\n",
    "\n",
    "ga = calcularGauss(A, 3)\n",
    "gb = calcularGauss(B, 3)\n",
    "\n",
    "la = calcularLaplaciana(ga)\n",
    "lb = calcularLaplaciana(gb)"
   ]
  },
  {
   "cell_type": "code",
   "execution_count": 4,
   "metadata": {},
   "outputs": [
    {
     "name": "stdout",
     "output_type": "stream",
     "text": [
      "(338, 282, 3)\n",
      "(169, 141, 3)\n",
      "(85, 71, 3)\n",
      "(43, 36, 3)\n",
      "Laplace\n",
      "(85, 71, 3)\n",
      "(169, 141, 3)\n",
      "(338, 282, 3)\n"
     ]
    }
   ],
   "source": [
    "for i in ga:\n",
    "    print(i.shape)\n",
    "print(\"Laplace\")\n",
    "for i in la:\n",
    "    print(i.shape)"
   ]
  },
  {
   "cell_type": "code",
   "execution_count": 5,
   "metadata": {},
   "outputs": [
    {
     "name": "stdout",
     "output_type": "stream",
     "text": [
      "Gaussiana A:  4 Gaussiana B:  4\n",
      "Laplaciana A:  3 Laplaciana B:  3\n",
      "Gaussiana A size:  (43, 36, 3) Gaussiana B size:  (43, 36, 3)\n",
      "Laplaciana A size:  (338, 282, 3) Laplaciana B size:  (338, 282, 3)\n"
     ]
    }
   ],
   "source": [
    "print(\"Gaussiana A: \", len(ga), \"Gaussiana B: \", len(gb))\n",
    "print(\"Laplaciana A: \", len(la), \"Laplaciana B: \", len(lb))\n",
    "print(\"Gaussiana A size: \", ga[-1].shape, \"Gaussiana B size: \", gb[-1].shape)\n",
    "print(\"Laplaciana A size: \", la[-1].shape, \"Laplaciana B size: \", lb[-1].shape)\n",
    "\n"
   ]
  },
  {
   "cell_type": "code",
   "execution_count": 6,
   "metadata": {},
   "outputs": [
    {
     "name": "stdout",
     "output_type": "stream",
     "text": [
      "0\n",
      "laplaciana_i (85, 71, 3) img_r (86, 72, 3)\n",
      "Entro Ajusto columna\n",
      "1\n",
      "laplaciana_i (169, 141, 3) img_r (170, 142, 3)\n",
      "Entro Ajusto columna\n",
      "2\n",
      "laplaciana_i (338, 282, 3) img_r (338, 282, 3)\n",
      "3\n",
      "Error 3\n"
     ]
    }
   ],
   "source": [
    "reconstruir(la[::-1], gb)"
   ]
  },
  {
   "cell_type": "code",
   "execution_count": 70,
   "metadata": {},
   "outputs": [
    {
     "data": {
      "text/plain": [
       "2"
      ]
     },
     "execution_count": 70,
     "metadata": {},
     "output_type": "execute_result"
    }
   ],
   "source": [
    "len(la)"
   ]
  },
  {
   "cell_type": "code",
   "execution_count": null,
   "metadata": {},
   "outputs": [],
   "source": [
    "len(ga)"
   ]
  },
  {
   "cell_type": "code",
   "execution_count": null,
   "metadata": {},
   "outputs": [],
   "source": []
  }
 ],
 "metadata": {
  "kernelspec": {
   "display_name": "m_vision",
   "language": "python",
   "name": "python3"
  },
  "language_info": {
   "codemirror_mode": {
    "name": "ipython",
    "version": 3
   },
   "file_extension": ".py",
   "mimetype": "text/x-python",
   "name": "python",
   "nbconvert_exporter": "python",
   "pygments_lexer": "ipython3",
   "version": "3.10.12"
  }
 },
 "nbformat": 4,
 "nbformat_minor": 2
}
